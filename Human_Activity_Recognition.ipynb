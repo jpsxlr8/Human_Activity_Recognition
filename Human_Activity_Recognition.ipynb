{
  "nbformat": 4,
  "nbformat_minor": 0,
  "metadata": {
    "colab": {
      "name": "Human_Activity.ipynb",
      "provenance": [],
      "collapsed_sections": []
    },
    "kernelspec": {
      "name": "python3",
      "display_name": "Python 3"
    },
    "accelerator": "TPU"
  },
  "cells": [
    {
      "cell_type": "code",
      "metadata": {
        "id": "N172awD9_acQ",
        "colab_type": "code",
        "colab": {}
      },
      "source": [
        "import numpy as np\n",
        "import pandas as pd\n",
        "import matplotlib.pyplot as plt\n",
        "from sklearn import svm"
      ],
      "execution_count": 0,
      "outputs": []
    },
    {
      "cell_type": "code",
      "metadata": {
        "id": "BDPX1uVaewpQ",
        "colab_type": "code",
        "colab": {}
      },
      "source": [
        "# confusion matrix\n",
        "import seaborn as sns\n",
        "from sklearn.metrics import confusion_matrix\n",
        "\n",
        "def cm_analysis(y_true, y_pred, filename, labels, ymap=None, figsize=(10,10)):\n",
        "    \"\"\"\n",
        "    Generate matrix plot of confusion matrix with pretty annotations.\n",
        "    The plot image is saved to disk.\n",
        "    args: \n",
        "      y_true:    true label of the data, with shape (nsamples,)\n",
        "      y_pred:    prediction of the data, with shape (nsamples,)\n",
        "      filename:  filename of figure file to save\n",
        "      labels:    string array, name the order of class labels in the confusion matrix.\n",
        "                 use `clf.classes_` if using scikit-learn models.\n",
        "                 with shape (nclass,).\n",
        "      ymap:      dict: any -> string, length == nclass.\n",
        "                 if not None, map the labels & ys to more understandable strings.\n",
        "                 Caution: original y_true, y_pred and labels must align.\n",
        "      figsize:   the size of the figure plotted.\n",
        "    \"\"\"\n",
        "    if ymap is not None:\n",
        "        y_pred = [ymap[yi] for yi in y_pred]\n",
        "        y_true = [ymap[yi] for yi in y_true]\n",
        "        labels = [ymap[yi] for yi in labels]\n",
        "    cm = confusion_matrix(y_true, y_pred, labels=labels)\n",
        "    cm_sum = np.sum(cm, axis=1, keepdims=True)\n",
        "    cm_perc = cm / cm_sum.astype(float) * 100\n",
        "    annot = np.empty_like(cm).astype(str)\n",
        "    nrows, ncols = cm.shape\n",
        "    for i in range(nrows):\n",
        "        for j in range(ncols):\n",
        "            c = cm[i, j]\n",
        "            p = cm_perc[i, j]\n",
        "            if i == j:\n",
        "                s = cm_sum[i]\n",
        "                annot[i, j] = '%.1f%%\\n%d/%d' % (p, c, s)\n",
        "            elif c == 0:\n",
        "                annot[i, j] = ''\n",
        "            else:\n",
        "                annot[i, j] = '%.1f%%\\n%d' % (p, c)\n",
        "    cm = pd.DataFrame(cm, index=labels, columns=labels)\n",
        "    cm.index.name = 'Actual'\n",
        "    cm.columns.name = 'Predicted'\n",
        "    fig, ax = plt.subplots(figsize=figsize)\n",
        "    sns.heatmap(cm, annot=annot,cmap=\"YlGnBu\", fmt='', ax=ax)\n",
        "    plt.savefig('/content/drive/My Drive/Colab Notebooks/data/'+filename+'.png',dpi=300, bbox_inches='tight')"
      ],
      "execution_count": 0,
      "outputs": []
    },
    {
      "cell_type": "code",
      "metadata": {
        "id": "ogPPvXZa_n_g",
        "colab_type": "code",
        "outputId": "16a4bea2-f578-481e-b7a2-9bdefb162e9f",
        "colab": {
          "base_uri": "https://localhost:8080/",
          "height": 35
        }
      },
      "source": [
        "from google.colab import drive\n",
        "drive.mount('/content/drive')"
      ],
      "execution_count": 3,
      "outputs": [
        {
          "output_type": "stream",
          "text": [
            "Drive already mounted at /content/drive; to attempt to forcibly remount, call drive.mount(\"/content/drive\", force_remount=True).\n"
          ],
          "name": "stdout"
        }
      ]
    },
    {
      "cell_type": "markdown",
      "metadata": {
        "id": "0hVzv6zWE1jO",
        "colab_type": "text"
      },
      "source": [
        "**Using SVM - 70% - train and 30% - test**"
      ]
    },
    {
      "cell_type": "code",
      "metadata": {
        "id": "2vs8hLav_seF",
        "colab_type": "code",
        "colab": {}
      },
      "source": [
        "x_train = pd.read_csv(r\"/content/drive/My Drive/Colab Notebooks/train.csv\")\n",
        "x_test = pd.read_csv(r\"/content/drive/My Drive/Colab Notebooks/test.csv\")"
      ],
      "execution_count": 0,
      "outputs": []
    },
    {
      "cell_type": "code",
      "metadata": {
        "id": "Tohk8oIvATgK",
        "colab_type": "code",
        "colab": {}
      },
      "source": [
        "x_train = x_train.reindex(np.random.permutation(x_train.index))\n",
        "x_test = x_test.reindex(np.random.permutation(x_test.index))\n"
      ],
      "execution_count": 0,
      "outputs": []
    },
    {
      "cell_type": "code",
      "metadata": {
        "id": "kVjogiyYAtGw",
        "colab_type": "code",
        "colab": {}
      },
      "source": [
        "y_train = x_train[\"Activity\"]\n",
        "y_test = x_test[\"Activity\"]"
      ],
      "execution_count": 0,
      "outputs": []
    },
    {
      "cell_type": "code",
      "metadata": {
        "id": "t7Q8RU4bA14Q",
        "colab_type": "code",
        "colab": {}
      },
      "source": [
        "subject_train = x_train[\"subject\"]\n",
        "subject_test = x_test[\"subject\"]"
      ],
      "execution_count": 0,
      "outputs": []
    },
    {
      "cell_type": "code",
      "metadata": {
        "id": "AkFvqyJ0BAMw",
        "colab_type": "code",
        "colab": {}
      },
      "source": [
        "x_train = x_train.drop([\"subject\",\"Activity\"],axis=1)\n",
        "x_test = x_test.drop([\"subject\",\"Activity\"],axis=1)"
      ],
      "execution_count": 0,
      "outputs": []
    },
    {
      "cell_type": "code",
      "metadata": {
        "id": "K_nGfXoKB1hv",
        "colab_type": "code",
        "outputId": "a97504c9-c564-4b92-a661-d281471c5b38",
        "colab": {
          "base_uri": "https://localhost:8080/",
          "height": 89
        }
      },
      "source": [
        "clf = svm.SVC(gamma='scale')\n",
        "clf.fit(x_train, y_train)  "
      ],
      "execution_count": 9,
      "outputs": [
        {
          "output_type": "execute_result",
          "data": {
            "text/plain": [
              "SVC(C=1.0, break_ties=False, cache_size=200, class_weight=None, coef0=0.0,\n",
              "    decision_function_shape='ovr', degree=3, gamma='scale', kernel='rbf',\n",
              "    max_iter=-1, probability=False, random_state=None, shrinking=True,\n",
              "    tol=0.001, verbose=False)"
            ]
          },
          "metadata": {
            "tags": []
          },
          "execution_count": 9
        }
      ]
    },
    {
      "cell_type": "code",
      "metadata": {
        "id": "LYxyqnS-SAZr",
        "colab_type": "code",
        "outputId": "4cf0477d-e07b-47ab-b48e-2f2fa8040841",
        "colab": {
          "base_uri": "https://localhost:8080/",
          "height": 35
        }
      },
      "source": [
        "clf.score(x_train,y_train)"
      ],
      "execution_count": 10,
      "outputs": [
        {
          "output_type": "execute_result",
          "data": {
            "text/plain": [
              "0.9790533188248096"
            ]
          },
          "metadata": {
            "tags": []
          },
          "execution_count": 10
        }
      ]
    },
    {
      "cell_type": "code",
      "metadata": {
        "id": "oA03QJArDEAT",
        "colab_type": "code",
        "outputId": "5c99568c-8040-4c55-ac53-d2f106a81f7d",
        "colab": {
          "base_uri": "https://localhost:8080/",
          "height": 35
        }
      },
      "source": [
        "clf.score(x_test,y_test)"
      ],
      "execution_count": 11,
      "outputs": [
        {
          "output_type": "execute_result",
          "data": {
            "text/plain": [
              "0.9504580929759077"
            ]
          },
          "metadata": {
            "tags": []
          },
          "execution_count": 11
        }
      ]
    },
    {
      "cell_type": "markdown",
      "metadata": {
        "id": "kqDSY-8xFJP1",
        "colab_type": "text"
      },
      "source": [
        "**Using SVM - 70% - train and 30% - test using LDA**"
      ]
    },
    {
      "cell_type": "code",
      "metadata": {
        "id": "0Nl29LtTFTOH",
        "colab_type": "code",
        "colab": {}
      },
      "source": [
        "from sklearn.discriminant_analysis import LinearDiscriminantAnalysis"
      ],
      "execution_count": 0,
      "outputs": []
    },
    {
      "cell_type": "code",
      "metadata": {
        "id": "XzmIKO00NYgV",
        "colab_type": "code",
        "colab": {}
      },
      "source": [
        "x_train = pd.read_csv(r\"/content/drive/My Drive/Colab Notebooks/train.csv\")\n",
        "x_test = pd.read_csv(r\"/content/drive/My Drive/Colab Notebooks/test.csv\")\n",
        "x_train = x_train.reindex(np.random.permutation(x_train.index))\n",
        "x_test = x_test.reindex(np.random.permutation(x_test.index))\n",
        "y_train = x_train[\"Activity\"]\n",
        "y_test = x_test[\"Activity\"]\n",
        "subject_train = x_train[\"subject\"]\n",
        "subject_test = x_test[\"subject\"]\n",
        "x_train = x_train.drop([\"subject\",\"Activity\"],axis=1)\n",
        "x_test = x_test.drop([\"subject\",\"Activity\"],axis=1)"
      ],
      "execution_count": 0,
      "outputs": []
    },
    {
      "cell_type": "code",
      "metadata": {
        "id": "WJXFV6hYGuZo",
        "colab_type": "code",
        "colab": {}
      },
      "source": [
        "x_train_test = x_train.append(x_test)\n",
        "y_train_test = y_train.append(y_test)\n",
        "clf = LinearDiscriminantAnalysis()\n",
        "clf.fit(x_train_test, y_train_test)\n",
        "x_train_test = clf.transform(x_train_test)"
      ],
      "execution_count": 0,
      "outputs": []
    },
    {
      "cell_type": "code",
      "metadata": {
        "id": "yZQrmcVbIukm",
        "colab_type": "code",
        "colab": {}
      },
      "source": [
        "x_train = x_train_test[:7352]\n",
        "x_test = x_train_test[7352:]\n",
        "y_train = y_train_test[:7352]\n",
        "y_test = y_train_test[7352:]"
      ],
      "execution_count": 0,
      "outputs": []
    },
    {
      "cell_type": "code",
      "metadata": {
        "id": "kHKelluZHBoj",
        "colab_type": "code",
        "outputId": "6fc71a39-32fb-4d3c-ab8f-78c66a1b89cf",
        "colab": {
          "base_uri": "https://localhost:8080/",
          "height": 89
        }
      },
      "source": [
        "clf = svm.SVC(gamma=\"scale\",kernel=\"rbf\")\n",
        "clf.fit(x_train, y_train) "
      ],
      "execution_count": 16,
      "outputs": [
        {
          "output_type": "execute_result",
          "data": {
            "text/plain": [
              "SVC(C=1.0, break_ties=False, cache_size=200, class_weight=None, coef0=0.0,\n",
              "    decision_function_shape='ovr', degree=3, gamma='scale', kernel='rbf',\n",
              "    max_iter=-1, probability=False, random_state=None, shrinking=True,\n",
              "    tol=0.001, verbose=False)"
            ]
          },
          "metadata": {
            "tags": []
          },
          "execution_count": 16
        }
      ]
    },
    {
      "cell_type": "code",
      "metadata": {
        "id": "1Ya2l_CgSOvi",
        "colab_type": "code",
        "outputId": "e263b5b9-9ba0-4c62-d972-e160063b8032",
        "colab": {
          "base_uri": "https://localhost:8080/",
          "height": 35
        }
      },
      "source": [
        "clf.score(x_train,y_train)"
      ],
      "execution_count": 17,
      "outputs": [
        {
          "output_type": "execute_result",
          "data": {
            "text/plain": [
              "0.98449401523395"
            ]
          },
          "metadata": {
            "tags": []
          },
          "execution_count": 17
        }
      ]
    },
    {
      "cell_type": "code",
      "metadata": {
        "id": "js_Gk1vqHhHD",
        "colab_type": "code",
        "outputId": "18071fa4-2c52-4ec9-ba50-220d74b6a77f",
        "colab": {
          "base_uri": "https://localhost:8080/",
          "height": 35
        }
      },
      "source": [
        "clf.score(x_test,y_test)"
      ],
      "execution_count": 18,
      "outputs": [
        {
          "output_type": "execute_result",
          "data": {
            "text/plain": [
              "0.9847302341364099"
            ]
          },
          "metadata": {
            "tags": []
          },
          "execution_count": 18
        }
      ]
    },
    {
      "cell_type": "code",
      "metadata": {
        "id": "Xptt8hiQ_rqH",
        "colab_type": "code",
        "outputId": "086d17d1-b1db-42af-b419-568b64cce7cd",
        "colab": {
          "base_uri": "https://localhost:8080/",
          "height": 714
        }
      },
      "source": [
        "cm_analysis(y_test, clf.predict(x_test), \"svm_lda\", [\"WALKING\",\"WALKING_UPSTAIRS\",\"WALKING_DOWNSTAIRS\",\"SITTING\",\"STANDING\",\"LAYING\"])"
      ],
      "execution_count": 19,
      "outputs": [
        {
          "output_type": "display_data",
          "data": {
            "image/png": "[encoded data removed]",
            "text/plain": [
              "<Figure size 720x720 with 2 Axes>"
            ]
          },
          "metadata": {
            "tags": []
          }
        }
      ]
    },
    {
      "cell_type": "markdown",
      "metadata": {
        "id": "DSG2wsDiQqsA",
        "colab_type": "text"
      },
      "source": [
        "**Using SVM - 60% - train, 20 % validation and 20% - test**"
      ]
    },
    {
      "cell_type": "code",
      "metadata": {
        "id": "VLO6DpuaOv_0",
        "colab_type": "code",
        "colab": {}
      },
      "source": [
        "x_train = pd.read_csv(r\"/content/drive/My Drive/Colab Notebooks/train.csv\")\n",
        "x_test = pd.read_csv(r\"/content/drive/My Drive/Colab Notebooks/test.csv\")\n",
        "x_train = x_train.reindex(np.random.permutation(x_train.index))\n",
        "x_test = x_test.reindex(np.random.permutation(x_test.index))\n",
        "y_train = x_train[\"Activity\"]\n",
        "y_test = x_test[\"Activity\"]\n",
        "subject_train = x_train[\"subject\"]\n",
        "subject_test = x_test[\"subject\"]\n",
        "x_train = x_train.drop([\"subject\",\"Activity\"],axis=1)\n",
        "x_test = x_test.drop([\"subject\",\"Activity\"],axis=1)\n",
        "x_train_test = x_train.append(x_test)\n",
        "y_train_test = y_train.append(y_test)\n",
        "clf = LinearDiscriminantAnalysis()\n",
        "clf.fit(x_train_test, y_train_test)\n",
        "x_train_test = clf.transform(x_train_test)"
      ],
      "execution_count": 0,
      "outputs": []
    },
    {
      "cell_type": "code",
      "metadata": {
        "id": "lDK3WWnnRCm_",
        "colab_type": "code",
        "colab": {}
      },
      "source": [
        "x_train = x_train_test[:6180]\n",
        "x_val = x_train_test[6180:8240]\n",
        "x_test = x_train_test[8240:]\n",
        "y_train = y_train_test[:6180]\n",
        "y_val = y_train_test[6180:8240]\n",
        "y_test = y_train_test[8240:]"
      ],
      "execution_count": 0,
      "outputs": []
    },
    {
      "cell_type": "code",
      "metadata": {
        "id": "HjydqnG_RhIl",
        "colab_type": "code",
        "colab": {
          "base_uri": "https://localhost:8080/",
          "height": 89
        },
        "outputId": "a7128aaf-ef96-4796-a1de-c2fb1f9257d0"
      },
      "source": [
        "clf = svm.SVC(gamma=\"scale\")\n",
        "clf.fit(x_train, y_train)  "
      ],
      "execution_count": 22,
      "outputs": [
        {
          "output_type": "execute_result",
          "data": {
            "text/plain": [
              "SVC(C=1.0, break_ties=False, cache_size=200, class_weight=None, coef0=0.0,\n",
              "    decision_function_shape='ovr', degree=3, gamma='scale', kernel='rbf',\n",
              "    max_iter=-1, probability=False, random_state=None, shrinking=True,\n",
              "    tol=0.001, verbose=False)"
            ]
          },
          "metadata": {
            "tags": []
          },
          "execution_count": 22
        }
      ]
    },
    {
      "cell_type": "code",
      "metadata": {
        "id": "bJnaadVRSGg6",
        "colab_type": "code",
        "colab": {
          "base_uri": "https://localhost:8080/",
          "height": 35
        },
        "outputId": "edb16580-91cc-4d28-cb75-fbc8e6da6100"
      },
      "source": [
        "clf.score(x_train,y_train)"
      ],
      "execution_count": 23,
      "outputs": [
        {
          "output_type": "execute_result",
          "data": {
            "text/plain": [
              "0.9844660194174757"
            ]
          },
          "metadata": {
            "tags": []
          },
          "execution_count": 23
        }
      ]
    },
    {
      "cell_type": "code",
      "metadata": {
        "id": "_Zm4iVMPRlNV",
        "colab_type": "code",
        "colab": {
          "base_uri": "https://localhost:8080/",
          "height": 35
        },
        "outputId": "df8e6211-d3fc-480c-9907-9e205893ed55"
      },
      "source": [
        "clf.score(x_val,y_val)"
      ],
      "execution_count": 24,
      "outputs": [
        {
          "output_type": "execute_result",
          "data": {
            "text/plain": [
              "0.987378640776699"
            ]
          },
          "metadata": {
            "tags": []
          },
          "execution_count": 24
        }
      ]
    },
    {
      "cell_type": "code",
      "metadata": {
        "id": "qCdphBnWR3BF",
        "colab_type": "code",
        "colab": {
          "base_uri": "https://localhost:8080/",
          "height": 35
        },
        "outputId": "bd479ba3-5d16-456e-9ef4-1ad8097bd364"
      },
      "source": [
        "clf.score(x_test,y_test)"
      ],
      "execution_count": 25,
      "outputs": [
        {
          "output_type": "execute_result",
          "data": {
            "text/plain": [
              "0.982030111704711"
            ]
          },
          "metadata": {
            "tags": []
          },
          "execution_count": 25
        }
      ]
    },
    {
      "cell_type": "markdown",
      "metadata": {
        "id": "t3_C6k1I2D-0",
        "colab_type": "text"
      },
      "source": [
        "**Using CNN**"
      ]
    },
    {
      "cell_type": "code",
      "metadata": {
        "id": "KjEtoItgShqM",
        "colab_type": "code",
        "colab": {}
      },
      "source": [
        "from sklearn.discriminant_analysis import LinearDiscriminantAnalysis\n",
        "x_train = pd.read_csv(r\"/content/drive/My Drive/Colab Notebooks/train.csv\")\n",
        "x_test = pd.read_csv(r\"/content/drive/My Drive/Colab Notebooks/test.csv\")\n",
        "x_train = x_train.reindex(np.random.permutation(x_train.index))\n",
        "x_test = x_test.reindex(np.random.permutation(x_test.index))\n",
        "y_train = x_train[\"Activity\"]\n",
        "y_test = x_test[\"Activity\"]\n",
        "subject_train = x_train[\"subject\"]\n",
        "subject_test = x_test[\"subject\"]\n",
        "x_train = x_train.drop([\"subject\",\"Activity\"],axis=1)\n",
        "x_test = x_test.drop([\"subject\",\"Activity\"],axis=1)\n",
        "x_train_test = x_train.append(x_test)\n",
        "y_train_test = y_train.append(y_test)\n",
        "x_train_test = np.array(x_train_test)\n",
        "y_train_test = np.array(y_train_test)"
      ],
      "execution_count": 0,
      "outputs": []
    },
    {
      "cell_type": "code",
      "metadata": {
        "id": "5nqth0e68I7_",
        "colab_type": "code",
        "colab": {}
      },
      "source": [
        "for i in range(y_train_test.shape[0]):\n",
        "  if y_train_test[i]==\"WALKING\":\n",
        "    y_train_test[i] = 0\n",
        "  elif y_train_test[i]==\"WALKING_UPSTAIRS\":\n",
        "    y_train_test[i] = 1\n",
        "  elif y_train_test[i]==\"WALKING_DOWNSTAIRS\":\n",
        "    y_train_test[i] = 2\n",
        "  elif y_train_test[i]==\"SITTING\":\n",
        "    y_train_test[i] = 3\n",
        "  elif y_train_test[i]==\"STANDING\":\n",
        "    y_train_test[i] = 4\n",
        "  elif y_train_test[i]==\"LAYING\":\n",
        "    y_train_test[i] = 5"
      ],
      "execution_count": 0,
      "outputs": []
    },
    {
      "cell_type": "code",
      "metadata": {
        "id": "LSm2EVJg8QPJ",
        "colab_type": "code",
        "colab": {
          "base_uri": "https://localhost:8080/",
          "height": 82
        },
        "outputId": "81e68e34-0897-4c8c-ab59-b9d3c2706ab3"
      },
      "source": [
        "    from keras.utils import to_categorical\n",
        "    y_train_test = to_categorical(y_train_test)"
      ],
      "execution_count": 28,
      "outputs": [
        {
          "output_type": "stream",
          "text": [
            "Using TensorFlow backend.\n"
          ],
          "name": "stderr"
        },
        {
          "output_type": "display_data",
          "data": {
            "text/html": [
              "<p style=\"color: red;\">\n",
              "The default version of TensorFlow in Colab will switch to TensorFlow 2.x on the 27th of March, 2020.<br>\n",
              "We recommend you <a href=\"https://www.tensorflow.org/guide/migrate\" target=\"_blank\">upgrade</a> now\n",
              "or ensure your notebook will continue to use TensorFlow 1.x via the <code>%tensorflow_version 1.x</code> magic:\n",
              "<a href=\"https://colab.research.google.com/notebooks/tensorflow_version.ipynb\" target=\"_blank\">more info</a>.</p>\n"
            ],
            "text/plain": [
              "<IPython.core.display.HTML object>"
            ]
          },
          "metadata": {
            "tags": []
          }
        }
      ]
    },
    {
      "cell_type": "code",
      "metadata": {
        "id": "Q4b3sU95DUzA",
        "colab_type": "code",
        "colab": {}
      },
      "source": [
        "x_train = x_train_test[:6180]\n",
        "x_val = x_train_test[6180:8240]\n",
        "x_test = x_train_test[8240:]\n",
        "y_train = y_train_test[:6180]\n",
        "y_val = y_train_test[6180:8240]\n",
        "y_test = y_train_test[8240:]\n",
        "x_train = np.array(x_train)\n",
        "x_val = np.array(x_val)\n",
        "x_test = np.array(x_test)\n",
        "y_train = np.array(y_train)\n",
        "y_val = np.array(y_val)\n",
        "y_test = np.array(y_test)"
      ],
      "execution_count": 0,
      "outputs": []
    },
    {
      "cell_type": "code",
      "metadata": {
        "id": "3ZT0AzeOFdm1",
        "colab_type": "code",
        "colab": {}
      },
      "source": [
        "x_train = x_train.reshape(x_train.shape[0],x_train.shape[1],1)\n",
        "x_val = x_val.reshape(x_val.shape[0],x_val.shape[1],1)\n",
        "x_test = x_test.reshape(x_test.shape[0],x_test.shape[1],1)"
      ],
      "execution_count": 0,
      "outputs": []
    },
    {
      "cell_type": "code",
      "metadata": {
        "id": "K5QBzotq2ToM",
        "colab_type": "code",
        "colab": {
          "base_uri": "https://localhost:8080/",
          "height": 1000
        },
        "outputId": "9aabb5c2-93c9-49cb-e1b9-9c0f5ffd66cc"
      },
      "source": [
        "from __future__ import print_function\n",
        "import keras\n",
        "from keras.models import Sequential\n",
        "from keras.layers import Dense, Dropout, Activation, Flatten,BatchNormalization\n",
        "from keras.layers import Conv1D, MaxPooling1D\n",
        "from keras.regularizers import l2\n",
        "import os\n",
        "\n",
        "batch_size = 32\n",
        "num_classes = 6\n",
        "epochs = 10\n",
        "model = Sequential()\n",
        "model.add(Conv1D(32, 3, padding='same',kernel_regularizer=l2(0.01), bias_regularizer=l2(0.01),\n",
        "                 input_shape=(561,1)))\n",
        "model.add(BatchNormalization())\n",
        "model.add(Activation('relu'))\n",
        "model.add(MaxPooling1D(pool_size=2))\n",
        "model.add(Dropout(0.25))\n",
        "\n",
        "\"\"\"model.add(Conv1D(64, 3, padding='same',kernel_regularizer=l2(0.01), bias_regularizer=l2(0.01)))\n",
        "model.add(BatchNormalization())\n",
        "model.add(Activation('relu'))\n",
        "model.add(MaxPooling1D(pool_size=2))\n",
        "model.add(Dropout(0.25))\"\"\"\n",
        "\n",
        "model.add(Flatten())\n",
        "model.add(Dense(100))\n",
        "model.add(BatchNormalization())\n",
        "model.add(Activation('relu'))\n",
        "model.add(Dropout(0.5))\n",
        "model.add(Dense(num_classes))\n",
        "model.add(Activation('softmax'))\n",
        "\n",
        "# initiate Adam optimizer\n",
        "opt = keras.optimizers.adam(lr=0.001, decay=0)\n",
        "# Let's train the model using RMSprop\n",
        "model.compile(loss='categorical_crossentropy',\n",
        "              optimizer=opt,\n",
        "              metrics=['accuracy'])\n",
        "\n",
        "x_train = x_train.astype('float32')\n",
        "model.fit(x_train, y_train,\n",
        "              batch_size=batch_size,\n",
        "              epochs=epochs,\n",
        "              validation_data=(x_val, y_val),\n",
        "              shuffle=True)"
      ],
      "execution_count": 31,
      "outputs": [
        {
          "output_type": "stream",
          "text": [
            "WARNING:tensorflow:From /usr/local/lib/python3.6/dist-packages/keras/backend/tensorflow_backend.py:66: The name tf.get_default_graph is deprecated. Please use tf.compat.v1.get_default_graph instead.\n",
            "\n",
            "WARNING:tensorflow:From /usr/local/lib/python3.6/dist-packages/keras/backend/tensorflow_backend.py:541: The name tf.placeholder is deprecated. Please use tf.compat.v1.placeholder instead.\n",
            "\n",
            "WARNING:tensorflow:From /usr/local/lib/python3.6/dist-packages/keras/backend/tensorflow_backend.py:4432: The name tf.random_uniform is deprecated. Please use tf.random.uniform instead.\n",
            "\n",
            "WARNING:tensorflow:From /usr/local/lib/python3.6/dist-packages/keras/backend/tensorflow_backend.py:148: The name tf.placeholder_with_default is deprecated. Please use tf.compat.v1.placeholder_with_default instead.\n",
            "\n",
            "WARNING:tensorflow:From /usr/local/lib/python3.6/dist-packages/keras/backend/tensorflow_backend.py:4267: The name tf.nn.max_pool is deprecated. Please use tf.nn.max_pool2d instead.\n",
            "\n",
            "WARNING:tensorflow:From /usr/local/lib/python3.6/dist-packages/keras/backend/tensorflow_backend.py:3733: calling dropout (from tensorflow.python.ops.nn_ops) with keep_prob is deprecated and will be removed in a future version.\n",
            "Instructions for updating:\n",
            "Please use `rate` instead of `keep_prob`. Rate should be set to `rate = 1 - keep_prob`.\n",
            "WARNING:tensorflow:From /usr/local/lib/python3.6/dist-packages/keras/optimizers.py:793: The name tf.train.Optimizer is deprecated. Please use tf.compat.v1.train.Optimizer instead.\n",
            "\n",
            "WARNING:tensorflow:From /usr/local/lib/python3.6/dist-packages/keras/backend/tensorflow_backend.py:3576: The name tf.log is deprecated. Please use tf.math.log instead.\n",
            "\n",
            "WARNING:tensorflow:From /tensorflow-1.15.2/python3.6/tensorflow_core/python/ops/math_grad.py:1424: where (from tensorflow.python.ops.array_ops) is deprecated and will be removed in a future version.\n",
            "Instructions for updating:\n",
            "Use tf.where in 2.0, which has the same broadcast rule as np.where\n",
            "WARNING:tensorflow:From /usr/local/lib/python3.6/dist-packages/keras/backend/tensorflow_backend.py:1033: The name tf.assign_add is deprecated. Please use tf.compat.v1.assign_add instead.\n",
            "\n",
            "WARNING:tensorflow:From /usr/local/lib/python3.6/dist-packages/keras/backend/tensorflow_backend.py:1020: The name tf.assign is deprecated. Please use tf.compat.v1.assign instead.\n",
            "\n",
            "WARNING:tensorflow:From /usr/local/lib/python3.6/dist-packages/keras/backend/tensorflow_backend.py:3005: The name tf.Session is deprecated. Please use tf.compat.v1.Session instead.\n",
            "\n",
            "Train on 6180 samples, validate on 2060 samples\n",
            "Epoch 1/10\n",
            "WARNING:tensorflow:From /usr/local/lib/python3.6/dist-packages/keras/backend/tensorflow_backend.py:190: The name tf.get_default_session is deprecated. Please use tf.compat.v1.get_default_session instead.\n",
            "\n",
            "WARNING:tensorflow:From /usr/local/lib/python3.6/dist-packages/keras/backend/tensorflow_backend.py:197: The name tf.ConfigProto is deprecated. Please use tf.compat.v1.ConfigProto instead.\n",
            "\n",
            "WARNING:tensorflow:From /usr/local/lib/python3.6/dist-packages/keras/backend/tensorflow_backend.py:207: The name tf.global_variables is deprecated. Please use tf.compat.v1.global_variables instead.\n",
            "\n",
            "WARNING:tensorflow:From /usr/local/lib/python3.6/dist-packages/keras/backend/tensorflow_backend.py:216: The name tf.is_variable_initialized is deprecated. Please use tf.compat.v1.is_variable_initialized instead.\n",
            "\n",
            "WARNING:tensorflow:From /usr/local/lib/python3.6/dist-packages/keras/backend/tensorflow_backend.py:223: The name tf.variables_initializer is deprecated. Please use tf.compat.v1.variables_initializer instead.\n",
            "\n",
            "6180/6180 [==============================] - 8s 1ms/step - loss: 0.3862 - acc: 0.8649 - val_loss: 0.1829 - val_acc: 0.9485\n",
            "Epoch 2/10\n",
            "6180/6180 [==============================] - 7s 1ms/step - loss: 0.1637 - acc: 0.9494 - val_loss: 0.1423 - val_acc: 0.9544\n",
            "Epoch 3/10\n",
            "6180/6180 [==============================] - 7s 1ms/step - loss: 0.1299 - acc: 0.9605 - val_loss: 0.1137 - val_acc: 0.9655\n",
            "Epoch 4/10\n",
            "6180/6180 [==============================] - 7s 1ms/step - loss: 0.1091 - acc: 0.9654 - val_loss: 0.0916 - val_acc: 0.9752\n",
            "Epoch 5/10\n",
            "6180/6180 [==============================] - 7s 1ms/step - loss: 0.1073 - acc: 0.9663 - val_loss: 0.0946 - val_acc: 0.9709\n",
            "Epoch 6/10\n",
            "6180/6180 [==============================] - 7s 1ms/step - loss: 0.0917 - acc: 0.9696 - val_loss: 0.0851 - val_acc: 0.9767\n",
            "Epoch 7/10\n",
            "6180/6180 [==============================] - 7s 1ms/step - loss: 0.0915 - acc: 0.9678 - val_loss: 0.0857 - val_acc: 0.9767\n",
            "Epoch 8/10\n",
            "6180/6180 [==============================] - 7s 1ms/step - loss: 0.0764 - acc: 0.9757 - val_loss: 0.0929 - val_acc: 0.9723\n",
            "Epoch 9/10\n",
            "6180/6180 [==============================] - 7s 1ms/step - loss: 0.0804 - acc: 0.9728 - val_loss: 0.0870 - val_acc: 0.9743\n",
            "Epoch 10/10\n",
            "6180/6180 [==============================] - 7s 1ms/step - loss: 0.0712 - acc: 0.9767 - val_loss: 0.0807 - val_acc: 0.9772\n"
          ],
          "name": "stdout"
        },
        {
          "output_type": "execute_result",
          "data": {
            "text/plain": [
              "<keras.callbacks.History at 0x7f0b1662edd8>"
            ]
          },
          "metadata": {
            "tags": []
          },
          "execution_count": 31
        }
      ]
    },
    {
      "cell_type": "code",
      "metadata": {
        "id": "Ax-ojh9n5bv-",
        "colab_type": "code",
        "colab": {
          "base_uri": "https://localhost:8080/",
          "height": 71
        },
        "outputId": "19cc5a3d-5d0b-4b70-c23f-b15a2737e57c"
      },
      "source": [
        "scores = model.evaluate(x_test, y_test, verbose=1)\n",
        "print('Test loss:', scores[0])\n",
        "print('Test accuracy:', scores[1])"
      ],
      "execution_count": 32,
      "outputs": [
        {
          "output_type": "stream",
          "text": [
            "2059/2059 [==============================] - 1s 261us/step\n",
            "Test loss: 0.11252926665097258\n",
            "Test accuracy: 0.9611461874696454\n"
          ],
          "name": "stdout"
        }
      ]
    },
    {
      "cell_type": "markdown",
      "metadata": {
        "id": "7q1WGIHsPX1n",
        "colab_type": "text"
      },
      "source": [
        "**Using CNN with LDA**"
      ]
    },
    {
      "cell_type": "code",
      "metadata": {
        "id": "EdS2sJkBOEWG",
        "colab_type": "code",
        "colab": {}
      },
      "source": [
        "x_train = pd.read_csv(r\"/content/drive/My Drive/Colab Notebooks/train.csv\")\n",
        "x_test = pd.read_csv(r\"/content/drive/My Drive/Colab Notebooks/test.csv\")\n",
        "x_train = x_train.reindex(np.random.permutation(x_train.index))\n",
        "x_test = x_test.reindex(np.random.permutation(x_test.index))\n",
        "y_train = x_train[\"Activity\"]\n",
        "y_test = x_test[\"Activity\"]\n",
        "yt = y_test\n",
        "subject_train = x_train[\"subject\"]\n",
        "subject_test = x_test[\"subject\"]\n",
        "x_train = x_train.drop([\"subject\",\"Activity\"],axis=1)\n",
        "x_test = x_test.drop([\"subject\",\"Activity\"],axis=1)\n",
        "x_train_test = x_train.append(x_test)\n",
        "y_train_test = y_train.append(y_test)\n",
        "clf = LinearDiscriminantAnalysis()\n",
        "clf.fit(x_train_test, y_train_test)\n",
        "x_train_test = clf.transform(x_train_test)\n",
        "x_train_test = np.array(x_train_test)\n",
        "y_train_test = np.array(y_train_test)"
      ],
      "execution_count": 0,
      "outputs": []
    },
    {
      "cell_type": "code",
      "metadata": {
        "id": "5SH4uQCo9kNl",
        "colab_type": "code",
        "colab": {}
      },
      "source": [
        "for i in range(y_train_test.shape[0]):\n",
        "  if y_train_test[i]==\"WALKING\":\n",
        "    y_train_test[i] = 0\n",
        "  elif y_train_test[i]==\"WALKING_UPSTAIRS\":\n",
        "    y_train_test[i] = 1\n",
        "  elif y_train_test[i]==\"WALKING_DOWNSTAIRS\":\n",
        "    y_train_test[i] = 2\n",
        "  elif y_train_test[i]==\"SITTING\":\n",
        "    y_train_test[i] = 3\n",
        "  elif y_train_test[i]==\"STANDING\":\n",
        "    y_train_test[i] = 4\n",
        "  elif y_train_test[i]==\"LAYING\":\n",
        "    y_train_test[i] = 5"
      ],
      "execution_count": 0,
      "outputs": []
    },
    {
      "cell_type": "code",
      "metadata": {
        "id": "aIlrecZyOpsb",
        "colab_type": "code",
        "colab": {}
      },
      "source": [
        "from keras.utils import to_categorical\n",
        "y_train_test = to_categorical(y_train_test)"
      ],
      "execution_count": 0,
      "outputs": []
    },
    {
      "cell_type": "code",
      "metadata": {
        "id": "i-YEXDl5ONhU",
        "colab_type": "code",
        "colab": {}
      },
      "source": [
        "x_train = x_train_test[:6180]\n",
        "x_val = x_train_test[6180:8240]\n",
        "x_test = x_train_test[8240:]\n",
        "y_train = y_train_test[:6180]\n",
        "y_val = y_train_test[6180:8240]\n",
        "y_test = y_train_test[8240:]"
      ],
      "execution_count": 0,
      "outputs": []
    },
    {
      "cell_type": "code",
      "metadata": {
        "id": "K6z5d6xeOONE",
        "colab_type": "code",
        "colab": {}
      },
      "source": [
        "x_train = x_train.reshape(x_train.shape[0],x_train.shape[1],1)\n",
        "x_val = x_val.reshape(x_val.shape[0],x_val.shape[1],1)\n",
        "x_test = x_test.reshape(x_test.shape[0],x_test.shape[1],1)"
      ],
      "execution_count": 0,
      "outputs": []
    },
    {
      "cell_type": "code",
      "metadata": {
        "id": "xuWA4-sAOxoS",
        "colab_type": "code",
        "colab": {
          "base_uri": "https://localhost:8080/",
          "height": 413
        },
        "outputId": "4dc047e5-f1c6-4140-da90-61ab1d48c186"
      },
      "source": [
        "from __future__ import print_function\n",
        "import keras\n",
        "from keras.models import Sequential\n",
        "from keras.layers import Dense, Dropout, Activation, Flatten,BatchNormalization\n",
        "from keras.layers import Conv1D, MaxPooling1D\n",
        "from keras.regularizers import l2\n",
        "import os\n",
        "\n",
        "batch_size = 32\n",
        "num_classes = 6\n",
        "epochs = 10\n",
        "model = Sequential()\n",
        "model.add(Conv1D(32, 1, padding='same',kernel_regularizer=l2(0.01), bias_regularizer=l2(0.01),\n",
        "                 input_shape=(5,1)))\n",
        "model.add(BatchNormalization())\n",
        "model.add(Activation('relu'))\n",
        "model.add(MaxPooling1D(pool_size=1))\n",
        "model.add(Dropout(0.25))\n",
        "\n",
        "model.add(Conv1D(64, 1, padding='same',kernel_regularizer=l2(0.01), bias_regularizer=l2(0.01)))\n",
        "model.add(BatchNormalization())\n",
        "model.add(Activation('relu'))\n",
        "model.add(MaxPooling1D(pool_size=1))\n",
        "model.add(Dropout(0.25))\n",
        "\n",
        "model.add(Flatten())\n",
        "model.add(Dense(100))\n",
        "model.add(BatchNormalization())\n",
        "model.add(Activation('relu'))\n",
        "model.add(Dropout(0.5))\n",
        "model.add(Dense(num_classes))\n",
        "model.add(Activation('softmax'))\n",
        "\n",
        "# initiate Adam optimizer\n",
        "opt = keras.optimizers.adam(lr=0.001, decay=0)\n",
        "# Let's train the model using RMSprop\n",
        "model.compile(loss='categorical_crossentropy',\n",
        "              optimizer=opt,\n",
        "              metrics=['accuracy'])\n",
        "\n",
        "x_train = x_train.astype('float32')\n",
        "model.fit(x_train, y_train,\n",
        "              batch_size=batch_size,\n",
        "              epochs=epochs,\n",
        "              validation_data=(x_val, y_val),\n",
        "              shuffle=True)"
      ],
      "execution_count": 38,
      "outputs": [
        {
          "output_type": "stream",
          "text": [
            "Train on 6180 samples, validate on 2060 samples\n",
            "Epoch 1/10\n",
            "6180/6180 [==============================] - 2s 274us/step - loss: 0.7752 - acc: 0.8728 - val_loss: 0.4028 - val_acc: 0.9825\n",
            "Epoch 2/10\n",
            "6180/6180 [==============================] - 1s 119us/step - loss: 0.3265 - acc: 0.9723 - val_loss: 0.2383 - val_acc: 0.9816\n",
            "Epoch 3/10\n",
            "6180/6180 [==============================] - 1s 120us/step - loss: 0.2072 - acc: 0.9782 - val_loss: 0.1485 - val_acc: 0.9830\n",
            "Epoch 4/10\n",
            "6180/6180 [==============================] - 1s 119us/step - loss: 0.1519 - acc: 0.9748 - val_loss: 0.1003 - val_acc: 0.9820\n",
            "Epoch 5/10\n",
            "6180/6180 [==============================] - 1s 122us/step - loss: 0.1147 - acc: 0.9764 - val_loss: 0.0817 - val_acc: 0.9811\n",
            "Epoch 6/10\n",
            "6180/6180 [==============================] - 1s 118us/step - loss: 0.0964 - acc: 0.9759 - val_loss: 0.0690 - val_acc: 0.9816\n",
            "Epoch 7/10\n",
            "6180/6180 [==============================] - 1s 119us/step - loss: 0.0812 - acc: 0.9786 - val_loss: 0.0680 - val_acc: 0.9820\n",
            "Epoch 8/10\n",
            "6180/6180 [==============================] - 1s 122us/step - loss: 0.0791 - acc: 0.9790 - val_loss: 0.0589 - val_acc: 0.9811\n",
            "Epoch 9/10\n",
            "6180/6180 [==============================] - 1s 122us/step - loss: 0.0730 - acc: 0.9790 - val_loss: 0.0595 - val_acc: 0.9811\n",
            "Epoch 10/10\n",
            "6180/6180 [==============================] - 1s 124us/step - loss: 0.0652 - acc: 0.9793 - val_loss: 0.0550 - val_acc: 0.9825\n"
          ],
          "name": "stdout"
        },
        {
          "output_type": "execute_result",
          "data": {
            "text/plain": [
              "<keras.callbacks.History at 0x7f0b0fd2ef98>"
            ]
          },
          "metadata": {
            "tags": []
          },
          "execution_count": 38
        }
      ]
    },
    {
      "cell_type": "code",
      "metadata": {
        "id": "5sIgyimxO8aR",
        "colab_type": "code",
        "colab": {
          "base_uri": "https://localhost:8080/",
          "height": 71
        },
        "outputId": "80358be3-2b1e-4fca-ae2a-ca9c8ab97db0"
      },
      "source": [
        "scores = model.evaluate(x_test, y_test, verbose=1)\n",
        "print('Test loss:', scores[0])\n",
        "print('Test accuracy:', scores[1])"
      ],
      "execution_count": 39,
      "outputs": [
        {
          "output_type": "stream",
          "text": [
            "2059/2059 [==============================] - 0s 36us/step\n",
            "Test loss: 0.06371151268547343\n",
            "Test accuracy: 0.9805730937348227\n"
          ],
          "name": "stdout"
        }
      ]
    },
    {
      "cell_type": "code",
      "metadata": {
        "id": "YB2wsagGORxJ",
        "colab_type": "code",
        "colab": {}
      },
      "source": [
        "# To calculate confusion Matrix\n",
        "y = np.array(model.predict(x_test))\n",
        "y[y>0.5]=1\n",
        "y =np.array(y,dtype=\"int\")\n",
        "yp = []\n",
        "for i in range(y.shape[0]):\n",
        "  if y[i][0]==1:\n",
        "    yp.append(\"WALKING\")\n",
        "  elif y[i][1]==1:\n",
        "    yp.append(\"WALKING_UPSTAIRS\")\n",
        "  elif y[i][2]==1:\n",
        "    yp.append(\"WALKING_DOWNSTAIRS\")\n",
        "  elif y[i][3]==1:\n",
        "    yp.append(\"SITTING\")\n",
        "  elif y[i][4]==1:\n",
        "    yp.append(\"STANDING\")\n",
        "  elif y[i][5]==1:\n",
        "    yp.append(\"LAYING\")\n",
        "yp = np.array(yp)"
      ],
      "execution_count": 0,
      "outputs": []
    },
    {
      "cell_type": "code",
      "metadata": {
        "id": "DeAH5vjGN0kY",
        "colab_type": "code",
        "colab": {
          "base_uri": "https://localhost:8080/",
          "height": 714
        },
        "outputId": "abc251f4-bbc8-499c-c5d5-4bd1698dff77"
      },
      "source": [
        "cm_analysis(yt[-2059:], yp, \"cnn_lda\", [\"WALKING\",\"WALKING_UPSTAIRS\",\"WALKING_DOWNSTAIRS\",\"SITTING\",\"STANDING\",\"LAYING\"])"
      ],
      "execution_count": 41,
      "outputs": [
        {
          "output_type": "display_data",
          "data": {
            "image/png": "[encoded data removed]",
            "text/plain": [
              "<Figure size 720x720 with 2 Axes>"
            ]
          },
          "metadata": {
            "tags": []
          }
        }
      ]
    },
    {
      "cell_type": "markdown",
      "metadata": {
        "id": "AfgdoRCe04_r",
        "colab_type": "text"
      },
      "source": [
        "**KNN**"
      ]
    },
    {
      "cell_type": "code",
      "metadata": {
        "id": "3zvVkbGY1N_u",
        "colab_type": "code",
        "colab": {}
      },
      "source": [
        "from sklearn.discriminant_analysis import LinearDiscriminantAnalysis\n",
        "x_train = pd.read_csv(r\"/content/drive/My Drive/Colab Notebooks/train.csv\")\n",
        "x_test = pd.read_csv(r\"/content/drive/My Drive/Colab Notebooks/test.csv\")\n",
        "x_train = x_train.reindex(np.random.permutation(x_train.index))\n",
        "x_test = x_test.reindex(np.random.permutation(x_test.index))\n",
        "y_train = x_train[\"Activity\"]\n",
        "y_test = x_test[\"Activity\"]\n",
        "subject_train = x_train[\"subject\"]\n",
        "subject_test = x_test[\"subject\"]\n",
        "x_train = x_train.drop([\"subject\",\"Activity\"],axis=1)\n",
        "x_test = x_test.drop([\"subject\",\"Activity\"],axis=1)"
      ],
      "execution_count": 0,
      "outputs": []
    },
    {
      "cell_type": "code",
      "metadata": {
        "id": "yQJyp3OD05R6",
        "colab_type": "code",
        "colab": {
          "base_uri": "https://localhost:8080/",
          "height": 71
        },
        "outputId": "06de261b-0d6f-4123-cbc9-d496ed799fa7"
      },
      "source": [
        "from sklearn.neighbors import KNeighborsClassifier\n",
        "neigh = KNeighborsClassifier(n_neighbors=5)\n",
        "neigh.fit(x_train,y_train)"
      ],
      "execution_count": 43,
      "outputs": [
        {
          "output_type": "execute_result",
          "data": {
            "text/plain": [
              "KNeighborsClassifier(algorithm='auto', leaf_size=30, metric='minkowski',\n",
              "                     metric_params=None, n_jobs=None, n_neighbors=5, p=2,\n",
              "                     weights='uniform')"
            ]
          },
          "metadata": {
            "tags": []
          },
          "execution_count": 43
        }
      ]
    },
    {
      "cell_type": "code",
      "metadata": {
        "id": "ZdZoZTgyLtVg",
        "colab_type": "code",
        "colab": {
          "base_uri": "https://localhost:8080/",
          "height": 35
        },
        "outputId": "bc78250b-3c8b-43c4-b0c7-fa7f682cc3ce"
      },
      "source": [
        "neigh.score(x_test,y_test)"
      ],
      "execution_count": 44,
      "outputs": [
        {
          "output_type": "execute_result",
          "data": {
            "text/plain": [
              "0.9002375296912114"
            ]
          },
          "metadata": {
            "tags": []
          },
          "execution_count": 44
        }
      ]
    },
    {
      "cell_type": "code",
      "metadata": {
        "id": "5VZ1-I-kG4hI",
        "colab_type": "code",
        "colab": {
          "base_uri": "https://localhost:8080/",
          "height": 714
        },
        "outputId": "1c04f1ac-bcf9-4f58-e966-b10adbfceb78"
      },
      "source": [
        "cm_analysis(y_test, neigh.predict(x_test), \"knn\", [\"WALKING\",\"WALKING_UPSTAIRS\",\"WALKING_DOWNSTAIRS\",\"SITTING\",\"STANDING\",\"LAYING\"])"
      ],
      "execution_count": 45,
      "outputs": [
        {
          "output_type": "display_data",
          "data": {
            "image/png": "[encoded data removed]",
            "text/plain": [
              "<Figure size 720x720 with 2 Axes>"
            ]
          },
          "metadata": {
            "tags": []
          }
        }
      ]
    },
    {
      "cell_type": "markdown",
      "metadata": {
        "id": "IWggWHnQ3UBh",
        "colab_type": "text"
      },
      "source": [
        "**KNN with LDA**"
      ]
    },
    {
      "cell_type": "code",
      "metadata": {
        "id": "jkGwXZ5G3W1s",
        "colab_type": "code",
        "colab": {}
      },
      "source": [
        "x_train = pd.read_csv(r\"/content/drive/My Drive/Colab Notebooks/train.csv\")\n",
        "x_test = pd.read_csv(r\"/content/drive/My Drive/Colab Notebooks/test.csv\")\n",
        "x_train = x_train.reindex(np.random.permutation(x_train.index))\n",
        "x_test = x_test.reindex(np.random.permutation(x_test.index))\n",
        "y_train = x_train[\"Activity\"]\n",
        "y_test = x_test[\"Activity\"]\n",
        "subject_train = x_train[\"subject\"]\n",
        "subject_test = x_test[\"subject\"]\n",
        "x_train = x_train.drop([\"subject\",\"Activity\"],axis=1)\n",
        "x_test = x_test.drop([\"subject\",\"Activity\"],axis=1)\n",
        "x_train_test = x_train.append(x_test)\n",
        "y_train_test = y_train.append(y_test)\n",
        "x_train_test = np.array(x_train_test)\n",
        "y_train_test = np.array(y_train_test)\n",
        "#standardization\n",
        "x_train_test = x_train_test - x_train_test.mean(axis=0)\n",
        "x_train_test = x_train_test / x_train_test.std(axis=0)\n",
        "#dimension reduction using lda\n",
        "clf = LinearDiscriminantAnalysis()\n",
        "clf.fit(x_train_test, y_train_test)\n",
        "x_train_test = clf.transform(x_train_test)"
      ],
      "execution_count": 0,
      "outputs": []
    },
    {
      "cell_type": "code",
      "metadata": {
        "id": "IfN8yd9O3oTf",
        "colab_type": "code",
        "colab": {}
      },
      "source": [
        "x_train = x_train_test[:7352]\n",
        "x_test = x_train_test[7352:]\n",
        "y_train = y_train_test[:7352]\n",
        "y_test = y_train_test[7352:]"
      ],
      "execution_count": 0,
      "outputs": []
    },
    {
      "cell_type": "code",
      "metadata": {
        "id": "9Rry6lZJ3yHG",
        "colab_type": "code",
        "colab": {
          "base_uri": "https://localhost:8080/",
          "height": 71
        },
        "outputId": "a72aaadf-8783-4689-ba2e-cb4a0d038dd6"
      },
      "source": [
        "from sklearn.neighbors import KNeighborsClassifier\n",
        "neigh = KNeighborsClassifier(n_neighbors=1)\n",
        "neigh.fit(x_train,y_train)"
      ],
      "execution_count": 48,
      "outputs": [
        {
          "output_type": "execute_result",
          "data": {
            "text/plain": [
              "KNeighborsClassifier(algorithm='auto', leaf_size=30, metric='minkowski',\n",
              "                     metric_params=None, n_jobs=None, n_neighbors=1, p=2,\n",
              "                     weights='uniform')"
            ]
          },
          "metadata": {
            "tags": []
          },
          "execution_count": 48
        }
      ]
    },
    {
      "cell_type": "code",
      "metadata": {
        "id": "2x0ut5LO30Hu",
        "colab_type": "code",
        "colab": {
          "base_uri": "https://localhost:8080/",
          "height": 35
        },
        "outputId": "a2c7bd42-d6f7-4ddc-aa5c-262582bdbf5b"
      },
      "source": [
        "neigh.score(x_test,y_test)"
      ],
      "execution_count": 49,
      "outputs": [
        {
          "output_type": "execute_result",
          "data": {
            "text/plain": [
              "0.9772650152697658"
            ]
          },
          "metadata": {
            "tags": []
          },
          "execution_count": 49
        }
      ]
    },
    {
      "cell_type": "code",
      "metadata": {
        "id": "gFPSBaD535VO",
        "colab_type": "code",
        "colab": {
          "base_uri": "https://localhost:8080/",
          "height": 714
        },
        "outputId": "62305740-dec9-4b69-9b53-25e3d9da5c67"
      },
      "source": [
        "cm_analysis(y_test, neigh.predict(x_test), \"knn_lda\", [\"WALKING\",\"WALKING_UPSTAIRS\",\"WALKING_DOWNSTAIRS\",\"SITTING\",\"STANDING\",\"LAYING\"])"
      ],
      "execution_count": 50,
      "outputs": [
        {
          "output_type": "display_data",
          "data": {
            "image/png": "[encoded data removed]",
            "text/plain": [
              "<Figure size 720x720 with 2 Axes>"
            ]
          },
          "metadata": {
            "tags": []
          }
        }
      ]
    },
    {
      "cell_type": "markdown",
      "metadata": {
        "id": "CFD9JUiF4lHE",
        "colab_type": "text"
      },
      "source": [
        "**Random Forest Classifier**"
      ]
    },
    {
      "cell_type": "code",
      "metadata": {
        "id": "7WwaVMZO5RL_",
        "colab_type": "code",
        "colab": {}
      },
      "source": [
        "from sklearn.ensemble import RandomForestClassifier"
      ],
      "execution_count": 0,
      "outputs": []
    },
    {
      "cell_type": "code",
      "metadata": {
        "id": "jQvfXnmm5f1f",
        "colab_type": "code",
        "colab": {}
      },
      "source": [
        "from sklearn.discriminant_analysis import LinearDiscriminantAnalysis\n",
        "x_train = pd.read_csv(r\"/content/drive/My Drive/Colab Notebooks/train.csv\")\n",
        "x_test = pd.read_csv(r\"/content/drive/My Drive/Colab Notebooks/test.csv\")\n",
        "x_train = x_train.reindex(np.random.permutation(x_train.index))\n",
        "x_test = x_test.reindex(np.random.permutation(x_test.index))\n",
        "y_train = x_train[\"Activity\"]\n",
        "y_test = x_test[\"Activity\"]\n",
        "subject_train = x_train[\"subject\"]\n",
        "subject_test = x_test[\"subject\"]\n",
        "x_train = x_train.drop([\"subject\",\"Activity\"],axis=1)\n",
        "x_test = x_test.drop([\"subject\",\"Activity\"],axis=1)"
      ],
      "execution_count": 0,
      "outputs": []
    },
    {
      "cell_type": "code",
      "metadata": {
        "id": "EEHlkxlZ5Z_0",
        "colab_type": "code",
        "colab": {
          "base_uri": "https://localhost:8080/",
          "height": 161
        },
        "outputId": "67181e18-781b-40ad-ea7f-dda36107ca42"
      },
      "source": [
        "clf = RandomForestClassifier(n_estimators=100, max_depth=2,random_state=0)\n",
        "clf.fit(x_train,y_train)"
      ],
      "execution_count": 53,
      "outputs": [
        {
          "output_type": "execute_result",
          "data": {
            "text/plain": [
              "RandomForestClassifier(bootstrap=True, ccp_alpha=0.0, class_weight=None,\n",
              "                       criterion='gini', max_depth=2, max_features='auto',\n",
              "                       max_leaf_nodes=None, max_samples=None,\n",
              "                       min_impurity_decrease=0.0, min_impurity_split=None,\n",
              "                       min_samples_leaf=1, min_samples_split=2,\n",
              "                       min_weight_fraction_leaf=0.0, n_estimators=100,\n",
              "                       n_jobs=None, oob_score=False, random_state=0, verbose=0,\n",
              "                       warm_start=False)"
            ]
          },
          "metadata": {
            "tags": []
          },
          "execution_count": 53
        }
      ]
    },
    {
      "cell_type": "code",
      "metadata": {
        "id": "E2qDm1_f5jOS",
        "colab_type": "code",
        "colab": {
          "base_uri": "https://localhost:8080/",
          "height": 35
        },
        "outputId": "93202ce5-9956-458d-aa67-686c9300a8b3"
      },
      "source": [
        "clf.score(x_test,y_test)"
      ],
      "execution_count": 54,
      "outputs": [
        {
          "output_type": "execute_result",
          "data": {
            "text/plain": [
              "0.7170003393281303"
            ]
          },
          "metadata": {
            "tags": []
          },
          "execution_count": 54
        }
      ]
    },
    {
      "cell_type": "code",
      "metadata": {
        "id": "negEMfTS5qPq",
        "colab_type": "code",
        "colab": {}
      },
      "source": [
        ""
      ],
      "execution_count": 0,
      "outputs": []
    },
    {
      "cell_type": "markdown",
      "metadata": {
        "id": "0vtlsvPA5tY1",
        "colab_type": "text"
      },
      "source": [
        "**Random Forest Classifier with LDA**"
      ]
    },
    {
      "cell_type": "code",
      "metadata": {
        "id": "8I4rxFjD5tpO",
        "colab_type": "code",
        "colab": {}
      },
      "source": [
        "x_train = pd.read_csv(r\"/content/drive/My Drive/Colab Notebooks/train.csv\")\n",
        "x_test = pd.read_csv(r\"/content/drive/My Drive/Colab Notebooks/test.csv\")\n",
        "x_train = x_train.reindex(np.random.permutation(x_train.index))\n",
        "x_test = x_test.reindex(np.random.permutation(x_test.index))\n",
        "y_train = x_train[\"Activity\"]\n",
        "y_test = x_test[\"Activity\"]\n",
        "subject_train = x_train[\"subject\"]\n",
        "subject_test = x_test[\"subject\"]\n",
        "x_train = x_train.drop([\"subject\",\"Activity\"],axis=1)\n",
        "x_test = x_test.drop([\"subject\",\"Activity\"],axis=1)\n",
        "x_train_test = x_train.append(x_test)\n",
        "y_train_test = y_train.append(y_test)\n",
        "x_train_test = np.array(x_train_test)\n",
        "y_train_test = np.array(y_train_test)\n",
        "#standardization\n",
        "x_train_test = x_train_test - x_train_test.mean(axis=0)\n",
        "x_train_test = x_train_test / x_train_test.std(axis=0)\n",
        "#dimension reduction using lda\n",
        "clf = LinearDiscriminantAnalysis()\n",
        "clf.fit(x_train_test, y_train_test)\n",
        "x_train_test = clf.transform(x_train_test)"
      ],
      "execution_count": 0,
      "outputs": []
    },
    {
      "cell_type": "code",
      "metadata": {
        "id": "67YF-Ofk5uLq",
        "colab_type": "code",
        "colab": {}
      },
      "source": [
        "x_train = x_train_test[:7352]\n",
        "x_test = x_train_test[7352:]\n",
        "y_train = y_train_test[:7352]\n",
        "y_test = y_train_test[7352:]"
      ],
      "execution_count": 0,
      "outputs": []
    },
    {
      "cell_type": "code",
      "metadata": {
        "id": "h_hm5O4G5xsB",
        "colab_type": "code",
        "colab": {
          "base_uri": "https://localhost:8080/",
          "height": 161
        },
        "outputId": "bd216e19-080a-40c5-fd3e-f1f9761ae8e7"
      },
      "source": [
        "from sklearn.ensemble import RandomForestClassifier\n",
        "clf = RandomForestClassifier(n_estimators=100, max_depth=2,random_state=0)\n",
        "clf.fit(x_train,y_train)"
      ],
      "execution_count": 57,
      "outputs": [
        {
          "output_type": "execute_result",
          "data": {
            "text/plain": [
              "RandomForestClassifier(bootstrap=True, ccp_alpha=0.0, class_weight=None,\n",
              "                       criterion='gini', max_depth=2, max_features='auto',\n",
              "                       max_leaf_nodes=None, max_samples=None,\n",
              "                       min_impurity_decrease=0.0, min_impurity_split=None,\n",
              "                       min_samples_leaf=1, min_samples_split=2,\n",
              "                       min_weight_fraction_leaf=0.0, n_estimators=100,\n",
              "                       n_jobs=None, oob_score=False, random_state=0, verbose=0,\n",
              "                       warm_start=False)"
            ]
          },
          "metadata": {
            "tags": []
          },
          "execution_count": 57
        }
      ]
    },
    {
      "cell_type": "code",
      "metadata": {
        "id": "PdY5lLq954bq",
        "colab_type": "code",
        "colab": {
          "base_uri": "https://localhost:8080/",
          "height": 35
        },
        "outputId": "6feac651-3ffb-48aa-980f-6020ce4f38bc"
      },
      "source": [
        "clf.score(x_test,y_test)"
      ],
      "execution_count": 58,
      "outputs": [
        {
          "output_type": "execute_result",
          "data": {
            "text/plain": [
              "0.826942653545979"
            ]
          },
          "metadata": {
            "tags": []
          },
          "execution_count": 58
        }
      ]
    }
  ]
}